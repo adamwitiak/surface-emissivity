{
 "cells": [
  {
   "cell_type": "code",
   "execution_count": 1,
   "id": "8c134252",
   "metadata": {},
   "outputs": [
    {
     "name": "stdout",
     "output_type": "stream",
     "text": [
      "TensorFlow version: 2.10.0\n"
     ]
    }
   ],
   "source": [
    "import xarray as xr\n",
    "import os\n",
    "import tensorflow as tf\n",
    "import jdutil # ./jdutil.py\n",
    "import datetime\n",
    "import cartopy.crs as ccrs\n",
    "import matplotlib.pyplot as plt\n",
    "import matplotlib.tri as tri\n",
    "import numpy as np\n",
    "from sklearn.model_selection import train_test_split\n",
    "\n",
    "print('TensorFlow version:',tf.__version__)"
   ]
  },
  {
   "cell_type": "code",
   "execution_count": 25,
   "id": "963df1b3",
   "metadata": {},
   "outputs": [
    {
     "name": "stdout",
     "output_type": "stream",
     "text": [
      "logging atms files:\n",
      ".\\data\\atms\\atms_n20_v2_4_1_collocated_era5_atms_n20_20180614_00.nc\n",
      ".\\data\\atms\\atms_n20_v2_4_1_collocated_era5_atms_n20_20180614_03.nc\n",
      ".\\data\\atms\\atms_n20_v2_4_1_collocated_era5_atms_n20_20180614_06.nc\n",
      ".\\data\\atms\\atms_n20_v2_4_1_collocated_era5_atms_n20_20180614_09.nc\n",
      ".\\data\\atms\\atms_n20_v2_4_1_collocated_era5_atms_n20_20180614_12.nc\n",
      ".\\data\\atms\\atms_n20_v2_4_1_collocated_era5_atms_n20_20180614_15.nc\n",
      ".\\data\\atms\\atms_n20_v2_4_1_collocated_era5_atms_n20_20180614_18.nc\n",
      ".\\data\\atms\\atms_n20_v2_4_1_collocated_era5_atms_n20_20180614_21.nc\n",
      "logging model files:\n",
      ".\\data\\model\\collocated_era5_atms_n20_20180614_00.nc\n",
      ".\\data\\model\\collocated_era5_atms_n20_20180614_03.nc\n",
      ".\\data\\model\\collocated_era5_atms_n20_20180614_06.nc\n",
      ".\\data\\model\\collocated_era5_atms_n20_20180614_09.nc\n",
      ".\\data\\model\\collocated_era5_atms_n20_20180614_12.nc\n",
      ".\\data\\model\\collocated_era5_atms_n20_20180614_15.nc\n",
      ".\\data\\model\\collocated_era5_atms_n20_20180614_18.nc\n",
      ".\\data\\model\\collocated_era5_atms_n20_20180614_21.nc\n",
      "\n",
      "-------\n",
      "\n",
      "loading model dataset .\\data\\model\\collocated_era5_atms_n20_20180614_00.nc\n",
      "loading atms dataset .\\data\\atms\\atms_n20_v2_4_1_collocated_era5_atms_n20_20180614_00.nc\n",
      "loading model dataset .\\data\\model\\collocated_era5_atms_n20_20180614_03.nc\n",
      "loading atms dataset .\\data\\atms\\atms_n20_v2_4_1_collocated_era5_atms_n20_20180614_03.nc\n",
      "loading model dataset .\\data\\model\\collocated_era5_atms_n20_20180614_06.nc\n",
      "loading atms dataset .\\data\\atms\\atms_n20_v2_4_1_collocated_era5_atms_n20_20180614_06.nc\n",
      "loading model dataset .\\data\\model\\collocated_era5_atms_n20_20180614_09.nc\n",
      "loading atms dataset .\\data\\atms\\atms_n20_v2_4_1_collocated_era5_atms_n20_20180614_09.nc\n",
      "loading model dataset .\\data\\model\\collocated_era5_atms_n20_20180614_12.nc\n",
      "loading atms dataset .\\data\\atms\\atms_n20_v2_4_1_collocated_era5_atms_n20_20180614_12.nc\n",
      "loading model dataset .\\data\\model\\collocated_era5_atms_n20_20180614_15.nc\n",
      "loading atms dataset .\\data\\atms\\atms_n20_v2_4_1_collocated_era5_atms_n20_20180614_15.nc\n",
      "loading model dataset .\\data\\model\\collocated_era5_atms_n20_20180614_18.nc\n",
      "loading atms dataset .\\data\\atms\\atms_n20_v2_4_1_collocated_era5_atms_n20_20180614_18.nc\n",
      "loading model dataset .\\data\\model\\collocated_era5_atms_n20_20180614_21.nc\n",
      "loading atms dataset .\\data\\atms\\atms_n20_v2_4_1_collocated_era5_atms_n20_20180614_21.nc\n",
      "(44854, 31)\n",
      "(44854, 22)\n"
     ]
    }
   ],
   "source": [
    "# Load data\n",
    "atms_files = []\n",
    "model_files = []\n",
    "\n",
    "print('logging atms files:')\n",
    "for root, dirs, files in os.walk(\".\\\\data\\\\atms\\\\\"):\n",
    "    for name in files:\n",
    "        file = os.path.join(root, name)\n",
    "        print(file)\n",
    "        atms_files.append(file)\n",
    "        \n",
    "print('logging model files:')\n",
    "for root, dirs, files in os.walk(\".\\\\data\\\\model\\\\\"):\n",
    "    for name in files:\n",
    "        file = os.path.join(root, name)\n",
    "        print(file)\n",
    "        model_files.append(file)\n",
    "      \n",
    "\n",
    "    \n",
    "print()\n",
    "print('-------')\n",
    "print()\n",
    "\n",
    "variables = [\n",
    "    'lat1',\n",
    "    'lon1',\n",
    "    'zenith_angle',\n",
    "    'azimuth_angle',\n",
    "    'skt',\n",
    "    'u10n',\n",
    "    'v10n',\n",
    "    'u10',\n",
    "    'v10',\n",
    "    'sp',\n",
    "    'msl',\n",
    "    'fsr',\n",
    "    'u100',\n",
    "    'v100',\n",
    "    'cvl',\n",
    "    'cvh',\n",
    "    'tvl',\n",
    "    'tvh',\n",
    "    'swvl1',\n",
    "    'swvl2',\n",
    "    'swvl3',\n",
    "    'swvl4',\n",
    "    'slt',\n",
    "    'lai_lv',\n",
    "    'lai_hv',\n",
    "    'sdfor',\n",
    "    'stl1',\n",
    "    'stl2',\n",
    "    'stl3',\n",
    "    'stl4',\n",
    "    'd2m'\n",
    "]\n",
    "\n",
    "x = np.empty((0,len(variables)))\n",
    "dT = np.empty((0,22))\n",
    "\n",
    "for atms_file, model_file in zip(atms_files, model_files):\n",
    "\n",
    "    print('loading model dataset',model_file)\n",
    "    data = xr.load_dataset(model_file)\n",
    "\n",
    "    print('loading atms dataset',atms_file)\n",
    "    data_tb = xr.load_dataset(atms_file)\n",
    "    data_tb = data_tb.tb.squeeze('nScanAng').T.to_dataset().rename_dims({'nProfs': 'obs_id'})\n",
    "\n",
    "    # Filter data to strictly land with clear-sky conditions for model training\n",
    "    data_tb = data_tb.where(data.lsm == 1.0, drop=True)\n",
    "    data_obs = data.where(data.lsm == 1.0, drop=True)\n",
    "    data_tb = data_tb.where(data_obs.tcc <= 0.1, drop=True)\n",
    "    data_obs = data_obs.where(data_obs.tcc <= 0.1, drop=True)\n",
    "\n",
    "    # Create input/output matrices\n",
    "    \n",
    "    x = np.vstack((x,data_obs[variables].to_array().values.T))\n",
    "    # Add bias term\n",
    "    #x = np.hstack((x, np.ones((x.shape[0], 1))))\n",
    "\n",
    "    # Omitting adding date for now: all the same date.\n",
    "    #x = np.hstack((x, np.full((x.shape[0], 1), date_num)))\n",
    "\n",
    "    dT = np.vstack((dT,data_obs.obs.values - data_tb.tb.values))\n",
    "    \n",
    "print(x.shape)\n",
    "print(dT.shape)"
   ]
  },
  {
   "cell_type": "code",
   "execution_count": null,
   "id": "3e0ca58d",
   "metadata": {},
   "outputs": [],
   "source": [
    "# Split data and normalize based on training data\n",
    "#x_train, x_test, y_train, y_test = train_test_split(x, dT, test_size=0.25, random_state=10)\n",
    "\n",
    "# Alternative split: by longitude\n",
    "x_sorted = x[x[:,1].argsort()]\n",
    "dT_sorted = dT[x[:,1].argsort()]\n",
    "\n",
    "train_ratio = 0.8\n",
    "x_train = x_sorted[0:int(train_ratio*x_sorted.shape[0]),:]\n",
    "x_test = x_sorted[int(train_ratio*x_sorted.shape[0]):,:]\n",
    "y_train = dT_sorted[0:int(train_ratio*x_sorted.shape[0]),:]\n",
    "y_test = dT_sorted[int(train_ratio*x_sorted.shape[0]):,:]\n",
    "\n",
    "x_train_mean = x_train.mean(axis=0)\n",
    "x_train_std  = x_train.std(axis=0)\n",
    "y_train_mean = y_train.mean(axis=0)\n",
    "\n",
    "x_train = (x_train - x_train_mean) / x_train_std\n",
    "x_test = (x_test - x_train_mean) / x_train_std\n",
    "y_train = y_train - y_train_mean\n",
    "y_test = y_test - y_train_mean\n",
    "\n",
    "print('x_train shape', x_train.shape)\n",
    "print('y_train shape', y_train.shape)"
   ]
  },
  {
   "cell_type": "code",
   "execution_count": 88,
   "id": "6814773b",
   "metadata": {},
   "outputs": [],
   "source": [
    "# find the best variables in a shallow network\n",
    "best_variables = []\n",
    "\n",
    "remaining_variables = list(np.arange(x_train.shape[1]))\n",
    "losses = {}\n",
    "\n",
    "#while len(best_variables) < x_train.shape[1]:\n",
    "while len(best_variables) < 1:    \n",
    "    \n",
    "    best_var = -1\n",
    "    \n",
    "    for var in remaining_variables:\n",
    "        current_variables = sorted(best_variables + [var])\n",
    "        \n",
    "        x_train_subset = x_train[:,current_variables]\n",
    "        y_train_subset = y_train[:,current_variables]\n",
    "        \n",
    "        model = tf.keras.models.Sequential([\n",
    "        tf.keras.layers.Dense(x_train_subset.shape[1], activation='relu'),\n",
    "            tf.keras.layers.Dense(22)\n",
    "        ])\n",
    "\n",
    "        model_checkpoint = tf.keras.callbacks.ModelCheckpoint(\n",
    "            filepath='checkpoints\\\\' + str(current_variables) + '.h5',\n",
    "            save_weights_only=True,\n",
    "            save_best_only=True,\n",
    "            verbose=1\n",
    "        )\n",
    "\n",
    "        loss_fn = tf.keras.losses.MeanSquaredError()\n",
    "\n",
    "        model.compile(optimizer='adam',\n",
    "                      loss=loss_fn)\n",
    "\n",
    "        model.fit(x_train, y_train, \n",
    "                  epochs=50,\n",
    "                  validation_data=(x_test, y_test),\n",
    "                  callbacks=[model_checkpoint])"
   ]
  },
  {
   "cell_type": "code",
   "execution_count": 99,
   "id": "522ceb9d",
   "metadata": {},
   "outputs": [
    {
     "data": {
      "text/plain": [
       "[2, 3]"
      ]
     },
     "execution_count": 99,
     "metadata": {},
     "output_type": "execute_result"
    }
   ],
   "source": [
    "[2] + [3]"
   ]
  },
  {
   "cell_type": "code",
   "execution_count": 75,
   "id": "f1bef96c",
   "metadata": {
    "scrolled": false
   },
   "outputs": [
    {
     "name": "stdout",
     "output_type": "stream",
     "text": [
      "x_train shape (35883, 31)\n",
      "y_train shape (35883, 22)\n",
      "Epoch 1/10\n",
      "1103/1122 [============================>.] - ETA: 0s - loss: 367.4922\n",
      "Epoch 1: val_loss improved from inf to 168.99915, saving model to checkpoints\\test.h5\n",
      "1122/1122 [==============================] - 2s 2ms/step - loss: 364.7578 - val_loss: 168.9991\n",
      "Epoch 2/10\n",
      "1110/1122 [============================>.] - ETA: 0s - loss: 178.0874\n",
      "Epoch 2: val_loss improved from 168.99915 to 133.45584, saving model to checkpoints\\test.h5\n",
      "1122/1122 [==============================] - 2s 2ms/step - loss: 177.8858 - val_loss: 133.4558\n",
      "Epoch 3/10\n",
      "1114/1122 [============================>.] - ETA: 0s - loss: 154.0605\n",
      "Epoch 3: val_loss improved from 133.45584 to 123.85921, saving model to checkpoints\\test.h5\n",
      "1122/1122 [==============================] - 2s 2ms/step - loss: 153.9867 - val_loss: 123.8592\n",
      "Epoch 4/10\n",
      "1116/1122 [============================>.] - ETA: 0s - loss: 143.5956\n",
      "Epoch 4: val_loss improved from 123.85921 to 116.42768, saving model to checkpoints\\test.h5\n",
      "1122/1122 [==============================] - 2s 2ms/step - loss: 143.6049 - val_loss: 116.4277\n",
      "Epoch 5/10\n",
      "1115/1122 [============================>.] - ETA: 0s - loss: 138.3098\n",
      "Epoch 5: val_loss improved from 116.42768 to 114.33259, saving model to checkpoints\\test.h5\n",
      "1122/1122 [==============================] - 3s 2ms/step - loss: 138.2646 - val_loss: 114.3326\n",
      "Epoch 6/10\n",
      "1102/1122 [============================>.] - ETA: 0s - loss: 133.8470\n",
      "Epoch 6: val_loss improved from 114.33259 to 111.84215, saving model to checkpoints\\test.h5\n",
      "1122/1122 [==============================] - 3s 3ms/step - loss: 133.7421 - val_loss: 111.8421\n",
      "Epoch 7/10\n",
      "1097/1122 [============================>.] - ETA: 0s - loss: 130.1083\n",
      "Epoch 7: val_loss did not improve from 111.84215\n",
      "1122/1122 [==============================] - 3s 2ms/step - loss: 130.0280 - val_loss: 116.7202\n",
      "Epoch 8/10\n",
      "1102/1122 [============================>.] - ETA: 0s - loss: 126.7358\n",
      "Epoch 8: val_loss did not improve from 111.84215\n",
      "1122/1122 [==============================] - 3s 3ms/step - loss: 126.9092 - val_loss: 115.3508\n",
      "Epoch 9/10\n",
      "1104/1122 [============================>.] - ETA: 0s - loss: 125.5125\n",
      "Epoch 9: val_loss did not improve from 111.84215\n",
      "1122/1122 [==============================] - 3s 2ms/step - loss: 125.4498 - val_loss: 117.4683\n",
      "Epoch 10/10\n",
      "1112/1122 [============================>.] - ETA: 0s - loss: 123.3878\n",
      "Epoch 10: val_loss did not improve from 111.84215\n",
      "1122/1122 [==============================] - 3s 2ms/step - loss: 123.2795 - val_loss: 119.1076\n"
     ]
    },
    {
     "data": {
      "text/plain": [
       "<keras.callbacks.History at 0x1c7a5f40fa0>"
      ]
     },
     "execution_count": 75,
     "metadata": {},
     "output_type": "execute_result"
    }
   ],
   "source": [
    "model = tf.keras.models.Sequential([\n",
    "    tf.keras.layers.Dense(x_train.shape[1], activation='relu'),\n",
    "#    tf.keras.layers.Dropout(0.4),\n",
    "#    tf.keras.layers.Dense(40, activation='relu'),\n",
    "#    tf.keras.layers.Dropout(0.05),\n",
    "    tf.keras.layers.Dense(22)\n",
    "])\n",
    "\n",
    "#early_stop = tf.keras.callbacks.EarlyStopping(monitor='val_loss',\n",
    "#                                              min_delta=0.01,\n",
    "#                                              patience=3,\n",
    "#                                              restore_best_weights=True)\n",
    "\n",
    "\n",
    "\n",
    "model_checkpoint = tf.keras.callbacks.ModelCheckpoint(\n",
    "    filepath='checkpoints/test.h5',\n",
    "    save_weights_only=True,\n",
    "    save_best_only=True,\n",
    "    verbose=1\n",
    ")\n",
    "\n",
    "loss_fn = tf.keras.losses.MeanSquaredError()\n",
    "\n",
    "model.compile(optimizer='adam',\n",
    "              loss=loss_fn)\n",
    "\n",
    "model.fit(x_train, y_train, \n",
    "          epochs=50,\n",
    "          validation_data=(x_test, y_test),\n",
    "          callbacks=[model_checkpoint])"
   ]
  },
  {
   "cell_type": "code",
   "execution_count": 79,
   "id": "819d4edc",
   "metadata": {
    "scrolled": true
   },
   "outputs": [
    {
     "name": "stdout",
     "output_type": "stream",
     "text": [
      "Model: \"sequential_12\"\n",
      "_________________________________________________________________\n",
      " Layer (type)                Output Shape              Param #   \n",
      "=================================================================\n",
      " dense_27 (Dense)            (None, 31)                992       \n",
      "                                                                 \n",
      " dropout_13 (Dropout)        (None, 31)                0         \n",
      "                                                                 \n",
      " dense_28 (Dense)            (None, 22)                704       \n",
      "                                                                 \n",
      "=================================================================\n",
      "Total params: 1,696\n",
      "Trainable params: 1,696\n",
      "Non-trainable params: 0\n",
      "_________________________________________________________________\n"
     ]
    }
   ],
   "source": [
    "model.load_weights('checkpoints\\\\test.h5')\n",
    "model.summary()"
   ]
  },
  {
   "cell_type": "code",
   "execution_count": 83,
   "id": "9cd39289",
   "metadata": {},
   "outputs": [
    {
     "data": {
      "text/plain": [
       "array([[-1.01751925, -1.37701793],\n",
       "       [-1.01751925, -1.39300624],\n",
       "       [-1.01751925, -1.40899446],\n",
       "       ...,\n",
       "       [-0.85511123,  1.22334018],\n",
       "       [-0.87029097,  1.44028693],\n",
       "       [-0.81860019,  1.35400501]])"
      ]
     },
     "execution_count": 83,
     "metadata": {},
     "output_type": "execute_result"
    }
   ],
   "source": []
  },
  {
   "cell_type": "code",
   "execution_count": 71,
   "id": "f2e31b7b",
   "metadata": {},
   "outputs": [
    {
     "name": "stdout",
     "output_type": "stream",
     "text": [
      "1122/1122 [==============================] - 1s 1ms/step\n"
     ]
    },
    {
     "data": {
      "text/plain": [
       "53.878768305900564"
      ]
     },
     "execution_count": 71,
     "metadata": {},
     "output_type": "execute_result"
    }
   ],
   "source": [
    "# Test performance\n",
    "y_pred = model.predict(x_train)\n",
    "\n",
    "loss_fn(y_pred, y_train).numpy()"
   ]
  },
  {
   "cell_type": "code",
   "execution_count": 67,
   "id": "a920bff1",
   "metadata": {},
   "outputs": [
    {
     "data": {
      "image/png": "[encoded data removed]",
      "text/plain": [
       "<Figure size 640x480 with 2 Axes>"
      ]
     },
     "metadata": {},
     "output_type": "display_data"
    }
   ],
   "source": [
    "channel_select=4\n",
    "\n",
    "lats = ((x_test * x_train_std) + x_train_mean)[:,0]\n",
    "lons = ((x_test * x_train_std) + x_train_mean)[:,1]\n",
    "values = (y_test + y_train_mean)[:,channel_select-1]\n",
    "ax = plt.axes(projection=ccrs.PlateCarree())\n",
    "ax.set_global()\n",
    "ax.coastlines()\n",
    "ax.set_title(f\"Data for channel {channel_select}\")\n",
    "\n",
    "p = plt.scatter(lons, lats, s=0.05, c=values, transform=ccrs.PlateCarree())\n",
    "plt.colorbar(p, ax=ax, label=\"dT\", shrink=0.55)\n",
    "\n",
    "plt.show()"
   ]
  },
  {
   "cell_type": "code",
   "execution_count": 57,
   "id": "5b3e5b60",
   "metadata": {},
   "outputs": [
    {
     "data": {
      "text/plain": [
       "array([-87.37496185, -87.37303925, -87.37117767, ...,  29.69706535,\n",
       "        29.69981384,  29.70084   ])"
      ]
     },
     "execution_count": 57,
     "metadata": {},
     "output_type": "execute_result"
    }
   ],
   "source": [
    "(x_train[:,0] * x_train_std[0]) + x_train_mean[0]"
   ]
  },
  {
   "cell_type": "code",
   "execution_count": 70,
   "id": "a26d7eca",
   "metadata": {},
   "outputs": [
    {
     "data": {
      "text/plain": [
       "(array([1220., 4879., 8130., 8160., 7362., 4858., 1152.,   57.,   41.,\n",
       "          24.]),\n",
       " array([-53.55728425, -38.22925011, -22.90121598,  -7.57318184,\n",
       "          7.7548523 ,  23.08288643,  38.41092057,  53.7389547 ,\n",
       "         69.06698884,  84.39502298,  99.72305711]),\n",
       " <BarContainer object of 10 artists>)"
      ]
     },
     "execution_count": 70,
     "metadata": {},
     "output_type": "execute_result"
    },
    {
     "data": {
      "image/png": "[encoded data removed]",
      "text/plain": [
       "<Figure size 640x480 with 1 Axes>"
      ]
     },
     "metadata": {},
     "output_type": "display_data"
    }
   ],
   "source": [
    "plt.hist(y_train[:,3])"
   ]
  },
  {
   "cell_type": "code",
   "execution_count": null,
   "id": "891329a0",
   "metadata": {},
   "outputs": [],
   "source": []
  }
 ],
 "metadata": {
  "kernelspec": {
   "display_name": "Python 3 (ipykernel)",
   "language": "python",
   "name": "python3"
  },
  "language_info": {
   "codemirror_mode": {
    "name": "ipython",
    "version": 3
   },
   "file_extension": ".py",
   "mimetype": "text/x-python",
   "name": "python",
   "nbconvert_exporter": "python",
   "pygments_lexer": "ipython3",
   "version": "3.9.16"
  }
 },
 "nbformat": 4,
 "nbformat_minor": 5
}
