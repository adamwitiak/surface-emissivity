{
 "cells": [
  {
   "cell_type": "code",
   "execution_count": 1,
   "id": "7d97b423",
   "metadata": {},
   "outputs": [
    {
     "name": "stdout",
     "output_type": "stream",
     "text": [
      "TensorFlow version: 2.10.0\n"
     ]
    }
   ],
   "source": [
    "import xarray as xr\n",
    "import os\n",
    "import tensorflow as tf\n",
    "import jdutil # ./jdutil.py\n",
    "import util   # ./util.py\n",
    "import datetime\n",
    "import cartopy.crs as ccrs\n",
    "import matplotlib.pyplot as plt\n",
    "import matplotlib.tri as tri\n",
    "import numpy as np\n",
    "from sklearn.model_selection import train_test_split\n",
    "\n",
    "print('TensorFlow version:',tf.__version__)"
   ]
  },
  {
   "cell_type": "code",
   "execution_count": 2,
   "id": "820565b0",
   "metadata": {},
   "outputs": [
    {
     "data": {
      "text/plain": [
       "<function util.load_data(variables)>"
      ]
     },
     "execution_count": 2,
     "metadata": {},
     "output_type": "execute_result"
    }
   ],
   "source": [
    "load_data"
   ]
  },
  {
   "cell_type": "code",
   "execution_count": 3,
   "id": "d5397202",
   "metadata": {},
   "outputs": [
    {
     "ename": "NameError",
     "evalue": "name 'load_data' is not defined",
     "output_type": "error",
     "traceback": [
      "\u001b[1;31m---------------------------------------------------------------------------\u001b[0m",
      "\u001b[1;31mNameError\u001b[0m                                 Traceback (most recent call last)",
      "Cell \u001b[1;32mIn[3], line 35\u001b[0m\n\u001b[0;32m      1\u001b[0m variables \u001b[38;5;241m=\u001b[39m [\n\u001b[0;32m      2\u001b[0m         \u001b[38;5;124m'\u001b[39m\u001b[38;5;124mlat1\u001b[39m\u001b[38;5;124m'\u001b[39m,\n\u001b[0;32m      3\u001b[0m         \u001b[38;5;124m'\u001b[39m\u001b[38;5;124mlon1\u001b[39m\u001b[38;5;124m'\u001b[39m,\n\u001b[1;32m   (...)\u001b[0m\n\u001b[0;32m     32\u001b[0m         \u001b[38;5;124m'\u001b[39m\u001b[38;5;124md2m\u001b[39m\u001b[38;5;124m'\u001b[39m\n\u001b[0;32m     33\u001b[0m     ]\n\u001b[1;32m---> 35\u001b[0m x, dT \u001b[38;5;241m=\u001b[39m \u001b[43mload_data\u001b[49m(variables)\n",
      "\u001b[1;31mNameError\u001b[0m: name 'load_data' is not defined"
     ]
    }
   ],
   "source": [
    "variables = [\n",
    "        'lat1',\n",
    "        'lon1',\n",
    "        'zenith_angle',\n",
    "        'azimuth_angle',\n",
    "        'skt',\n",
    "        'u10n',\n",
    "        'v10n',\n",
    "        'u10',\n",
    "        'v10',\n",
    "        'sp',\n",
    "        'msl',\n",
    "        'fsr',\n",
    "        'u100',\n",
    "        'v100',\n",
    "        'cvl',\n",
    "        'cvh',\n",
    "        'tvl',\n",
    "        'tvh',\n",
    "        'swvl1',\n",
    "        'swvl2',\n",
    "        'swvl3',\n",
    "        'swvl4',\n",
    "        'slt',\n",
    "        'lai_lv',\n",
    "        'lai_hv',\n",
    "        'sdfor',\n",
    "        'stl1',\n",
    "        'stl2',\n",
    "        'stl3',\n",
    "        'stl4',\n",
    "        'd2m'\n",
    "    ]\n",
    "\n",
    "x, dT = load_data(variables)"
   ]
  },
  {
   "cell_type": "code",
   "execution_count": null,
   "id": "2bbcc798",
   "metadata": {},
   "outputs": [],
   "source": [
    "# find the best variables in a shallow network\n",
    "best_variables = []\n",
    "\n",
    "remaining_variables = list(np.arange(x_train.shape[1]))\n",
    "losses = {}\n",
    "\n",
    "while len(best_variables) < x_train.shape[1]:\n",
    "#while len(best_variables) < 2:    \n",
    "    \n",
    "    best_var = -1\n",
    "    best_loss = 999999999\n",
    "    \n",
    "    for var in remaining_variables:\n",
    "        current_variables = sorted(best_variables + [var])\n",
    "        print('training with variables', str(current_variables))\n",
    "        \n",
    "        x_train_subset = x_train[:,current_variables]\n",
    "        x_test_subset = x_test[:,current_variables]\n",
    "        \n",
    "        model = tf.keras.models.Sequential([\n",
    "            tf.keras.layers.Dense(x_train_subset.shape[1], activation='relu'),\n",
    "            tf.keras.layers.Dense(22)\n",
    "        ])\n",
    "\n",
    "        model_checkpoint = tf.keras.callbacks.ModelCheckpoint(\n",
    "            filepath='checkpoints\\\\shallow_' + str(current_variables) + '.h5',\n",
    "            save_weights_only=True,\n",
    "            save_best_only=True,\n",
    "            verbose=0\n",
    "        )\n",
    "\n",
    "        loss_fn = tf.keras.losses.MeanSquaredError()\n",
    "\n",
    "        model.compile(optimizer='adam',\n",
    "                      loss=loss_fn)\n",
    "\n",
    "        hist = model.fit(x_train_subset, y_train, \n",
    "                  epochs=50,\n",
    "                  validation_data=(x_test_subset, y_test),\n",
    "                  callbacks=[model_checkpoint])\n",
    "        \n",
    "        current_loss = min(hist.history['val_loss'])\n",
    "        losses[str(current_variables)] = current_loss\n",
    "        \n",
    "        if current_loss < best_loss:\n",
    "            best_var = var\n",
    "            best_loss = current_loss\n",
    "    \n",
    "    print('Best variable:', best_var)\n",
    "    best_variables.append(best_var)\n",
    "    remaining_variables.remove(best_var)\n",
    "    "
   ]
  }
 ],
 "metadata": {
  "kernelspec": {
   "display_name": "Python 3 (ipykernel)",
   "language": "python",
   "name": "python3"
  },
  "language_info": {
   "codemirror_mode": {
    "name": "ipython",
    "version": 3
   },
   "file_extension": ".py",
   "mimetype": "text/x-python",
   "name": "python",
   "nbconvert_exporter": "python",
   "pygments_lexer": "ipython3",
   "version": "3.9.16"
  }
 },
 "nbformat": 4,
 "nbformat_minor": 5
}
